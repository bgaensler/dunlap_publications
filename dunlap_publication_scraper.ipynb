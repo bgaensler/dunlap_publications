{
 "cells": [
  {
   "cell_type": "markdown",
   "metadata": {},
   "source": [
    "#Code to automatically scrape Dunlap Directory and ADS, and identify recent Dunlap publications and highlight authors.\n",
    "#Written by Bryan Gaensler for Dunlap Hack Day, 4 June 2019"
   ]
  },
  {
   "cell_type": "code",
   "execution_count": 1,
   "metadata": {},
   "outputs": [
    {
     "name": "stderr",
     "output_type": "stream",
     "text": [
      "/usr/local/anaconda/lib/python2.7/site-packages/cryptography/hazmat/primitives/constant_time.py:26: CryptographyDeprecationWarning: Support for your Python version is deprecated. The next version of cryptography will remove support. Please upgrade to a 2.7.x release that supports hmac.compare_digest as soon as possible.\n",
      "  utils.DeprecatedIn23,\n"
     ]
    }
   ],
   "source": [
    "# Get 5 most recent Dunlap papers from ADS\n",
    "# Uses https://ads.readthedocs.io/en/latest/\n",
    "\n",
    "import ads\n",
    "import datetime\n",
    "import unidecode\n",
    "from lxml import html\n",
    "import requests"
   ]
  },
  {
   "cell_type": "code",
   "execution_count": 2,
   "metadata": {},
   "outputs": [
    {
     "name": "stderr",
     "output_type": "stream",
     "text": [
      "/Users/bmg/.local/lib/python2.7/site-packages/ads/utils.py:31: UserWarning: You are lazy loading attributes via 'pubdate', and so are making multiple calls to the API. This will impact your overall rate limits.\n",
      "  UserWarning,\n"
     ]
    }
   ],
   "source": [
    "# Number of papers to return\n",
    "num = 5\n",
    "adsname = range(num)\n",
    "adsname2 = range(num)\n",
    "bib = range(num)\n",
    "title = range(num)\n",
    "pdate = range(num)\n",
    "authstr = range(num)\n",
    "finalstr = range(num)\n",
    "# Gaensler ADS token\n",
    "ads.config.token = ''\n",
    "papers = ads.SearchQuery(q=\"aff:Dunlap Institute\", sort=\"date\", rows=num)\n",
    "for i,paper in enumerate(papers):\n",
    "    # Now shorten each author to ADS format\n",
    "    adsname[i] = range(len(paper.author))\n",
    "    adsname2[i] = range(len(paper.author))\n",
    "    bib[i] = paper.bibcode.encode('ascii')\n",
    "    title[i] = unidecode.unidecode(paper.title[0])\n",
    "    pdate[i] = datetime.datetime.strptime(paper.pubdate[0:7], \"%Y-%m\").strftime('%b %Y')\n",
    "    for n in range(len(paper.author)):\n",
    "        # Where is comma?\n",
    "        m = paper.author[n].find(',')\n",
    "        adsname[i][n] = unidecode.unidecode(paper.author[n][0:m+3]+'.')    \n",
    "        adsname2[i][n] = adsname[i][n]\n"
   ]
  },
  {
   "cell_type": "code",
   "execution_count": 3,
   "metadata": {},
   "outputs": [],
   "source": [
    "# Now scrape Dunlap personnel page for list of possible authors\n",
    "# http://www.dunlap.utoronto.ca/people/directory/\n",
    "\n",
    "directory = \"http://www.dunlap.utoronto.ca/people/directory/\"\n",
    "\n",
    "page = requests.get(directory)\n",
    "tree = html.fromstring(page.content)\n",
    "name1 = tree.xpath('//span[@class=\"given-name\"]/text()')\n",
    "name2 = tree.xpath('//span[@class=\"family-name\"]/text()')"
   ]
  },
  {
   "cell_type": "code",
   "execution_count": 4,
   "metadata": {},
   "outputs": [
    {
     "name": "stderr",
     "output_type": "stream",
     "text": [
      "/Users/bmg/.local/lib/python2.7/site-packages/unidecode/__init__.py:46: RuntimeWarning: Argument <class 'lxml.etree._ElementStringResult'> is not an unicode object. Passing an encoded string will likely have unexpected results.\n",
      "  _warn_if_not_unicode(string)\n",
      "/Users/bmg/.local/lib/python2.7/site-packages/unidecode/__init__.py:46: RuntimeWarning: Argument <type 'str'> is not an unicode object. Passing an encoded string will likely have unexpected results.\n",
      "  _warn_if_not_unicode(string)\n"
     ]
    }
   ],
   "source": [
    "\n",
    "# Now form author strings formatted for ads\n",
    "dunlapname = [\"\" for x in range(len(name1))]\n",
    "for n in range(0,len(name1)):\n",
    "    dunlapname[n] = unidecode.unidecode(name2[n])+', '+unidecode.unidecode(name1[n][0])+'.'\n"
   ]
  },
  {
   "cell_type": "code",
   "execution_count": 5,
   "metadata": {
    "scrolled": true
   },
   "outputs": [],
   "source": [
    "# Now find the Dunlap authors in each ADS paper and make them bold\n",
    "\n",
    "for n in range(num):\n",
    "    for name in dunlapname:\n",
    "        if (name in adsname[n]):\n",
    "            i = adsname[n].index(name)\n",
    "            adsname2[n][i] = \"<strong>\"+name+\"</strong>\""
   ]
  },
  {
   "cell_type": "code",
   "execution_count": 6,
   "metadata": {
    "scrolled": false
   },
   "outputs": [],
   "source": [
    "# Now write output to WWW\n",
    "\n",
    "f = open(\"/Users/bmg/Dropbox/dunlap_publications.html\",\"w\")\n",
    "\n",
    "f.write('<h3>Recent Dunlap Publications</h3>'+'\\n')\n",
    "for n in range(num):\n",
    "    authstr[n] = adsname2[n][0]\n",
    "    for m in range(1,len(adsname2[n])):\n",
    "        authstr[n] = authstr[n]+'; '+adsname2[n][m]\n",
    "        finalstr[n] = '<a href=\"https://ui.adsabs.harvard.edu/abs/'+bib[n]+'\" target=\"_blank\">'+authstr[n]+', '+title[n]+', '+pdate[n]+'</a> <p>'\n",
    "#    finalstr[n] = authstr[n]+', '+pdate[n]\n",
    "    f.write(str(n+1)+'. '+finalstr[n]+'\\n')\n",
    "\n",
    "f.write('<p><a href=\"https://ui.adsabs.harvard.edu/#search/q=aff%3A%22Dunlap%20Institute%22&sort=date%20desc\" target=\"_blank\">Complete list >></a></p>')\n",
    "f.close()"
   ]
  }
 ],
 "metadata": {
  "kernelspec": {
   "display_name": "Python 2",
   "language": "python",
   "name": "python2"
  },
  "language_info": {
   "codemirror_mode": {
    "name": "ipython",
    "version": 2
   },
   "file_extension": ".py",
   "mimetype": "text/x-python",
   "name": "python",
   "nbconvert_exporter": "python",
   "pygments_lexer": "ipython2",
   "version": "2.7.3"
  }
 },
 "nbformat": 4,
 "nbformat_minor": 2
}
