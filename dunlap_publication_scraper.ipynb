
{
 "cells": [
  {
   "cell_type": "markdown",
   "metadata": {},
   "source": [
    "#Code to automatically scrape Dunlap Directory and ADS, and identify recent Dunlap publications and highlight authors.\n",
    "#Written by Bryan Gaensler for Dunlap Hack Day, 4 June 2019"
   ]
  },
  {
   "cell_type": "code",
   "execution_count": 81,
   "metadata": {},
   "outputs": [],
   "source": [
    "# Get 5 most recent Dunlap papers from ADS\n",
    "\n",
    "import ads\n",
    "import datetime\n",
    "import unidecode\n",
    "from lxml import html\n",
    "import requests"
   ]
  },
  {
   "cell_type": "code",
   "execution_count": 82,
   "metadata": {},
   "outputs": [],
   "source": [
    "# Number of papers to return\n",
    "num = 5\n",
    "\n",
    "# Gaensler ADS token\n",
    "ads.config.token = ''"
   ]
  },
  {
   "cell_type": "code",
   "execution_count": 83,
   "metadata": {},
   "outputs": [],
   "source": [
    "# Query ADS\n",
    "# Uses https://ads.readthedocs.io/en/latest/\n",
    "papers = list(ads.SearchQuery(q=\"aff:Dunlap Institute\", sort=\"date\", rows=num))\n"
   ]
  },
  {
   "cell_type": "code",
   "execution_count": 84,
   "metadata": {
    "scrolled": false
   },
   "outputs": [],
   "source": [
    "authstr = ['' for x in range(num)]\n",
    "pdate = ['' for x in range(num)]\n",
    "title = ['' for x in range(num)]\n",
    "bib = ['' for x in range(num)]\n",
    "finalstr = ['' for x in range(num)]\n",
    "\n",
    "for n,paper in enumerate(papers):\n",
    "    for i in range(len(paper.author)):\n",
    "        # Make Dunlap authors in bold\n",
    "        if 'Dunlap Institute' in paper.aff[i]:\n",
    "            paper.author[i] = \"<strong>\"+paper.author[i]+\"</strong>\"\n",
    "    authstr[n] = \", \".join(paper.author)\n",
    "    pdate[n] = datetime.datetime.strptime(paper.pubdate[0:7], \"%Y-%m\").strftime('%b %Y')\n",
    "    title[n] = unidecode.unidecode(paper.title[0])\n",
    "    bib[n] = paper.bibcode\n",
    "    finalstr[n] = '<a href=\"https://ui.adsabs.harvard.edu/abs/'+bib[n]+'\" target=\"_blank\">'+authstr[n]+', '+title[n]+', '+pdate[n]+'</a> <p>'\n"
   ]
  },
  {
   "cell_type": "code",
   "execution_count": 86,
   "metadata": {
    "scrolled": false
   },
   "outputs": [],
   "source": [
    "# Now write output to WWW\n",
    "\n",
    "f = open(\"/Users/bmg/Dropbox/dunlap_publications.html\",\"w\")\n",
    "\n",
    "f.write('<h3>Recent Dunlap Publications</h3>'+'\\n')\n",
    "for n in range(num):\n",
    "     f.write(str(n+1)+'. '+finalstr[n]+'\\n')\n",
    "\n",
    "f.write('<p><a href=\"https://ui.adsabs.harvard.edu/#search/q=aff%3A%22Dunlap%20Institute%22&sort=date%20desc\" target=\"_blank\">Complete list >></a></p>')\n",
    "f.close()"
   ]
  },
  {
   "cell_type": "code",
   "execution_count": null,
   "metadata": {},
   "outputs": [],
   "source": []
  }
 ],
 "metadata": {
  "kernelspec": {
   "display_name": "Python 3",
   "language": "python",
   "name": "python3"
  },
  "language_info": {
   "codemirror_mode": {
    "name": "ipython",
    "version": 3
   },
   "file_extension": ".py",
   "mimetype": "text/x-python",
   "name": "python",
   "nbconvert_exporter": "python",
   "pygments_lexer": "ipython3",
   "version": "3.7.3"
  }
 },
 "nbformat": 4,
 "nbformat_minor": 2
}
